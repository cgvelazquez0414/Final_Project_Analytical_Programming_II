{
 "cells": [
  {
   "cell_type": "code",
   "execution_count": 1,
   "id": "d59b1f34-d699-480b-b740-5d4c2e0dd4b4",
   "metadata": {
    "tags": []
   },
   "outputs": [
    {
     "name": "stderr",
     "output_type": "stream",
     "text": [
      "[nltk_data] Downloading package vader_lexicon to\n",
      "[nltk_data]     /Users/carlosvelazquez/nltk_data...\n",
      "[nltk_data]   Package vader_lexicon is already up-to-date!\n",
      "[nltk_data] Downloading package stopwords to\n",
      "[nltk_data]     /Users/carlosvelazquez/nltk_data...\n",
      "[nltk_data]   Package stopwords is already up-to-date!\n"
     ]
    },
    {
     "data": {
      "text/plain": [
       "True"
      ]
     },
     "execution_count": 1,
     "metadata": {},
     "output_type": "execute_result"
    }
   ],
   "source": [
    "import pandas as pd\n",
    "import kagglehub\n",
    "import os\n",
    "import matplotlib.pyplot as plt\n",
    "from nltk.sentiment import SentimentIntensityAnalyzer\n",
    "from nltk.corpus import stopwords\n",
    "import nltk\n",
    "nltk.download('vader_lexicon')\n",
    "nltk.download('stopwords')\n"
   ]
  },
  {
   "cell_type": "code",
   "execution_count": 2,
   "id": "31467f62-5ac3-4caf-ad06-3f4a87e49b1f",
   "metadata": {
    "tags": []
   },
   "outputs": [
    {
     "name": "stdout",
     "output_type": "stream",
     "text": [
      "Requirement already satisfied: seaborn in /Users/carlosvelazquez/anaconda3/lib/python3.11/site-packages (0.13.2)\n",
      "Requirement already satisfied: numpy!=1.24.0,>=1.20 in /Users/carlosvelazquez/anaconda3/lib/python3.11/site-packages (from seaborn) (1.26.4)\n",
      "Requirement already satisfied: pandas>=1.2 in /Users/carlosvelazquez/anaconda3/lib/python3.11/site-packages (from seaborn) (2.2.3)\n",
      "Requirement already satisfied: matplotlib!=3.6.1,>=3.4 in /Users/carlosvelazquez/anaconda3/lib/python3.11/site-packages (from seaborn) (3.7.2)\n",
      "Requirement already satisfied: contourpy>=1.0.1 in /Users/carlosvelazquez/anaconda3/lib/python3.11/site-packages (from matplotlib!=3.6.1,>=3.4->seaborn) (1.0.5)\n",
      "Requirement already satisfied: cycler>=0.10 in /Users/carlosvelazquez/anaconda3/lib/python3.11/site-packages (from matplotlib!=3.6.1,>=3.4->seaborn) (0.11.0)\n",
      "Requirement already satisfied: fonttools>=4.22.0 in /Users/carlosvelazquez/anaconda3/lib/python3.11/site-packages (from matplotlib!=3.6.1,>=3.4->seaborn) (4.25.0)\n",
      "Requirement already satisfied: kiwisolver>=1.0.1 in /Users/carlosvelazquez/anaconda3/lib/python3.11/site-packages (from matplotlib!=3.6.1,>=3.4->seaborn) (1.4.4)\n",
      "Requirement already satisfied: packaging>=20.0 in /Users/carlosvelazquez/anaconda3/lib/python3.11/site-packages (from matplotlib!=3.6.1,>=3.4->seaborn) (24.1)\n",
      "Requirement already satisfied: pillow>=6.2.0 in /Users/carlosvelazquez/anaconda3/lib/python3.11/site-packages (from matplotlib!=3.6.1,>=3.4->seaborn) (11.0.0)\n",
      "Requirement already satisfied: pyparsing<3.1,>=2.3.1 in /Users/carlosvelazquez/anaconda3/lib/python3.11/site-packages (from matplotlib!=3.6.1,>=3.4->seaborn) (3.0.9)\n",
      "Requirement already satisfied: python-dateutil>=2.7 in /Users/carlosvelazquez/anaconda3/lib/python3.11/site-packages (from matplotlib!=3.6.1,>=3.4->seaborn) (2.9.0.post0)\n",
      "Requirement already satisfied: pytz>=2020.1 in /Users/carlosvelazquez/anaconda3/lib/python3.11/site-packages (from pandas>=1.2->seaborn) (2024.1)\n",
      "Requirement already satisfied: tzdata>=2022.7 in /Users/carlosvelazquez/anaconda3/lib/python3.11/site-packages (from pandas>=1.2->seaborn) (2023.3)\n",
      "Requirement already satisfied: six>=1.5 in /Users/carlosvelazquez/anaconda3/lib/python3.11/site-packages (from python-dateutil>=2.7->matplotlib!=3.6.1,>=3.4->seaborn) (1.16.0)\n"
     ]
    }
   ],
   "source": [
    "!pip install seaborn\n",
    "import seaborn as sns"
   ]
  },
  {
   "cell_type": "code",
   "execution_count": 3,
   "id": "5e1da0ce-a610-4e53-99c9-2e1c56bc6572",
   "metadata": {
    "tags": []
   },
   "outputs": [
    {
     "name": "stdout",
     "output_type": "stream",
     "text": [
      "Retrieving notices: done\n",
      "Channels:\n",
      " - defaults\n",
      " - conda-forge\n",
      "Platform: osx-arm64\n",
      "Collecting package metadata (repodata.json): done\n",
      "Solving environment: done\n",
      "\n",
      "## Package Plan ##\n",
      "\n",
      "  environment location: /Users/carlosvelazquez/anaconda3\n",
      "\n",
      "  added / updated specs:\n",
      "    - pandas\n",
      "\n",
      "\n",
      "The following packages will be downloaded:\n",
      "\n",
      "    package                    |            build\n",
      "    ---------------------------|-----------------\n",
      "    conda-24.11.1              |  py311hca03da5_0         1.2 MB\n",
      "    ------------------------------------------------------------\n",
      "                                           Total:         1.2 MB\n",
      "\n",
      "The following packages will be UPDATED:\n",
      "\n",
      "  conda                             24.11.0-py311hca03da5_0 --> 24.11.1-py311hca03da5_0 \n",
      "\n",
      "\n",
      "\n",
      "Downloading and Extracting Packages:\n",
      "                                                                                \n",
      "Preparing transaction: done\n",
      "Verifying transaction: done\n",
      "Executing transaction: done\n",
      "\n",
      "Note: you may need to restart the kernel to use updated packages.\n"
     ]
    }
   ],
   "source": [
    "conda install pandas"
   ]
  },
  {
   "cell_type": "code",
   "execution_count": 4,
   "id": "ef0bc795-8032-459d-9543-6f0d63466739",
   "metadata": {
    "tags": []
   },
   "outputs": [],
   "source": [
    "url = \"https://raw.githubusercontent.com/cgvelazquez0414/steam_games/main/gaming_ds_proj_1.csv\"\n",
    "game = pd.read_csv(url)\n"
   ]
  },
  {
   "cell_type": "code",
   "execution_count": null,
   "id": "42de8bd7-e51d-4c98-8bda-489afe30ed1a",
   "metadata": {
    "tags": []
   },
   "outputs": [],
   "source": []
  },
  {
   "cell_type": "code",
   "execution_count": 5,
   "id": "037fd325-5972-4a1c-9839-b29ed0092ac8",
   "metadata": {
    "tags": []
   },
   "outputs": [
    {
     "name": "stdout",
     "output_type": "stream",
     "text": [
      "NA/NaN counts per column:\n",
      " app_id                    0\n",
      "title                     0\n",
      "release_date              3\n",
      "genres                   15\n",
      "categories                7\n",
      "developer                19\n",
      "publisher                19\n",
      "original_price            0\n",
      "discount_percentage       0\n",
      "discounted_price          0\n",
      "dlc_available             0\n",
      "age_rating                0\n",
      "win_support               0\n",
      "mac_support               0\n",
      "linux_support             0\n",
      "awards                    0\n",
      "overall_review_%        534\n",
      "overall_review_count    534\n",
      "dtype: int64\n",
      "\n",
      "Total NA/NaN values in the dataset: 1131\n"
     ]
    },
    {
     "name": "stderr",
     "output_type": "stream",
     "text": [
      "/var/folders/9f/g3mh126s0s546sbywzbxhf2h0000gn/T/ipykernel_2625/1745721890.py:14: UserWarning: Could not infer format, so each element will be parsed individually, falling back to `dateutil`. To ensure parsing is consistent and as-expected, please specify a format.\n",
      "  game['release_date'] = pd.to_datetime(game['release_date'], errors='coerce')\n"
     ]
    }
   ],
   "source": [
    "#counting all NA's\n",
    "na_counts = game.isna().sum()\n",
    "\n",
    "# Display total number of NA and NaN values in the entire dataset\n",
    "total_na = game.isna().sum().sum()\n",
    "\n",
    "print(\"NA/NaN counts per column:\\n\", na_counts)\n",
    "print(\"\\nTotal NA/NaN values in the dataset:\", total_na)\n",
    "\n",
    "#using range() to assign a id number for every row\n",
    "game['app_id'] = range(1, len(game) + 1)\n",
    "\n",
    "#converting format and dropping observations not released yet\n",
    "game['release_date'] = pd.to_datetime(game['release_date'], errors='coerce')\n",
    "game = game.dropna(subset=['release_date'])\n",
    "\n",
    "#dropping observations containing more than 3 Na's in a observations\n",
    "game = game.dropna(thresh=len(game.columns) - 3)\n",
    "\n",
    "# Replace NaN values in the 'genre' column with \"Action, Adventure, Indie\"\n",
    "game['genres'] = game['genres'].fillna(\"Action, Adventure, Indie\")\n",
    "\n",
    "# Replace NaN values in the 'developer' column with \"Tero Lunkka\"\n",
    "game['developer'] = game['developer'].fillna(\"Tero Lunkka\")\n",
    "\n",
    "# Replace NaN values in the 'publisher' column with \"Hede\"\n",
    "game['publisher'] = game['publisher'].fillna(\"Hede\")\n",
    "\n",
    "#replaceing NaN's with median\n",
    "median_review_pct = game['overall_review_%'].median()\n",
    "game['overall_review_%'] = game['overall_review_%'].fillna(median_review_pct)\n",
    "\n",
    "#replaceing NaN's with median\n",
    "median_review_count = game['overall_review_count'].median()\n",
    "game['overall_review_count'] = game['overall_review_count'].fillna(median_review_count)\n"
   ]
  },
  {
   "cell_type": "code",
   "execution_count": 6,
   "id": "97bf97e0-7c90-4399-b98e-679d420f4b01",
   "metadata": {
    "tags": []
   },
   "outputs": [
    {
     "name": "stdout",
     "output_type": "stream",
     "text": [
      "NA/NaN counts per column:\n",
      " app_id                  0\n",
      "title                   0\n",
      "release_date            0\n",
      "genres                  0\n",
      "categories              0\n",
      "developer               0\n",
      "publisher               0\n",
      "original_price          0\n",
      "discount_percentage     0\n",
      "discounted_price        0\n",
      "dlc_available           0\n",
      "age_rating              0\n",
      "win_support             0\n",
      "mac_support             0\n",
      "linux_support           0\n",
      "awards                  0\n",
      "overall_review_%        0\n",
      "overall_review_count    0\n",
      "dtype: int64\n",
      "\n",
      "Total NA/NaN values in the dataset: 0\n"
     ]
    }
   ],
   "source": [
    "#counting all NA's\n",
    "na_counts = game.isna().sum()\n",
    "\n",
    "# Display total number of NA and NaN values in the entire dataset\n",
    "total_na = game.isna().sum().sum()\n",
    "\n",
    "print(\"NA/NaN counts per column:\\n\", na_counts)\n",
    "print(\"\\nTotal NA/NaN values in the dataset:\", total_na)"
   ]
  },
  {
   "cell_type": "code",
   "execution_count": 7,
   "id": "df132c2a-db9e-431d-b2b3-daa180a676d6",
   "metadata": {
    "tags": []
   },
   "outputs": [],
   "source": [
    "#converting original price to dollar\n",
    "conversion_rate = 0.012\n",
    "\n",
    "# Remove the ₹ symbol and commas, then convert to float\n",
    "game['original_price'] = game['original_price'].replace('[₹,]', '', regex=True).astype(float)\n",
    "\n",
    "# Convert INR to USD\n",
    "game['original_price_usd'] = game['original_price'] * conversion_rate\n",
    "\n",
    "#converting discounted price to dollar\n",
    "# Remove the ₹ symbol and commas, then convert to float\n",
    "game['discounted_price'] = game['discounted_price'].replace('[₹,]', '', regex=True).astype(float)\n",
    "\n",
    "# Convert INR to USD\n",
    "game['discounted_price_usd'] = game['discounted_price'] * conversion_rate"
   ]
  },
  {
   "cell_type": "code",
   "execution_count": 8,
   "id": "62810a9f-f261-4576-84cd-53ce92163e22",
   "metadata": {
    "tags": []
   },
   "outputs": [
    {
     "name": "stdout",
     "output_type": "stream",
     "text": [
      "Warning: Looks like you're using an outdated `kagglehub` version, please consider updating (latest version: 0.3.4)\n",
      "Path to dataset files: /Users/carlosvelazquez/.cache/kagglehub/datasets/najzeko/steam-reviews-2021/versions/1\n"
     ]
    }
   ],
   "source": [
    "#downloading reviews\n",
    "path = kagglehub.dataset_download(\"najzeko/steam-reviews-2021\")\n",
    "\n",
    "print(\"Path to dataset files:\", path)"
   ]
  },
  {
   "cell_type": "code",
   "execution_count": 9,
   "id": "a385f0e8-c365-4dcc-a2be-bd4f9f74b09a",
   "metadata": {
    "tags": []
   },
   "outputs": [
    {
     "name": "stdout",
     "output_type": "stream",
     "text": [
      "Files in the dataset directory: ['steam_reviews.csv']\n"
     ]
    }
   ],
   "source": [
    "import os\n",
    "\n",
    "dataset_path = \"/Users/carlosvelazquez/.cache/kagglehub/datasets/najzeko/steam-reviews-2021/versions/1\"\n",
    "\n",
    "if os.path.exists(dataset_path):\n",
    "    files = os.listdir(dataset_path)\n",
    "    print(\"Files in the dataset directory:\", files)\n",
    "else:\n",
    "    print(\"The specified dataset path does not exist.\")"
   ]
  },
  {
   "cell_type": "code",
   "execution_count": 10,
   "id": "dfe38ed8-2b61-4215-a173-14550ea3ab83",
   "metadata": {
    "tags": []
   },
   "outputs": [
    {
     "name": "stdout",
     "output_type": "stream",
     "text": [
      "   Unnamed: 0  app_id                  app_name  review_id  language  \\\n",
      "0           0  292030  The Witcher 3: Wild Hunt   85185598  schinese   \n",
      "1           1  292030  The Witcher 3: Wild Hunt   85185250  schinese   \n",
      "2           2  292030  The Witcher 3: Wild Hunt   85185111  schinese   \n",
      "3           3  292030  The Witcher 3: Wild Hunt   85184605   english   \n",
      "4           4  292030  The Witcher 3: Wild Hunt   85184287  schinese   \n",
      "\n",
      "                                              review  timestamp_created  \\\n",
      "0                            不玩此生遗憾，RPG游戏里的天花板，太吸引人了         1611381629   \n",
      "1                                 拔DIAO无情打桩机--杰洛特!!!         1611381030   \n",
      "2                                              巫师3NB         1611380800   \n",
      "3  One of the best RPG's of all time, worthy of a...         1611379970   \n",
      "4                                                 大作         1611379427   \n",
      "\n",
      "   timestamp_updated  recommended  votes_helpful  ...  steam_purchase  \\\n",
      "0         1611381629         True              0  ...            True   \n",
      "1         1611381030         True              0  ...            True   \n",
      "2         1611380800         True              0  ...            True   \n",
      "3         1611379970         True              0  ...            True   \n",
      "4         1611379427         True              0  ...            True   \n",
      "\n",
      "   received_for_free  written_during_early_access     author.steamid  \\\n",
      "0              False                        False  76561199095369542   \n",
      "1              False                        False  76561198949504115   \n",
      "2              False                        False  76561199090098988   \n",
      "3              False                        False  76561199054755373   \n",
      "4              False                        False  76561199028326951   \n",
      "\n",
      "   author.num_games_owned  author.num_reviews  author.playtime_forever  \\\n",
      "0                       6                   2                   1909.0   \n",
      "1                      30                  10                   2764.0   \n",
      "2                       5                   1                   1061.0   \n",
      "3                       5                   3                   5587.0   \n",
      "4                       7                   4                    217.0   \n",
      "\n",
      "   author.playtime_last_two_weeks  author.playtime_at_review  \\\n",
      "0                          1448.0                     1909.0   \n",
      "1                          2743.0                     2674.0   \n",
      "2                          1061.0                     1060.0   \n",
      "3                          3200.0                     5524.0   \n",
      "4                            42.0                      217.0   \n",
      "\n",
      "   author.last_played  \n",
      "0        1.611343e+09  \n",
      "1        1.611386e+09  \n",
      "2        1.611384e+09  \n",
      "3        1.611384e+09  \n",
      "4        1.610788e+09  \n",
      "\n",
      "[5 rows x 23 columns]\n"
     ]
    }
   ],
   "source": [
    "file_name = \"steam_reviews.csv\" \n",
    "file_path = os.path.join(dataset_path, file_name)\n",
    "\n",
    "df = pd.read_csv(file_path)\n",
    "print(df.head())"
   ]
  },
  {
   "cell_type": "code",
   "execution_count": 11,
   "id": "0e447b12-7227-483e-982c-eb41688b1549",
   "metadata": {
    "tags": []
   },
   "outputs": [
    {
     "name": "stdout",
     "output_type": "stream",
     "text": [
      "         Unnamed: 0  app_id_x          app_name  review_id language  \\\n",
      "0            668297       620          Portal 2   84747005  english   \n",
      "1            668298       620          Portal 2   84746899  english   \n",
      "3            668300       620          Portal 2   84745859  english   \n",
      "6            668303       620          Portal 2   84744152  english   \n",
      "7            668304       620          Portal 2   84743991  english   \n",
      "...             ...       ...               ...        ...      ...   \n",
      "2767196    21645820    512900  Streets of Rogue   30438766  english   \n",
      "2767200    21645824    512900  Streets of Rogue   85149009  english   \n",
      "2767203    21645827    512900  Streets of Rogue   85208044  english   \n",
      "2767206    21645830    512900  Streets of Rogue   85187860  english   \n",
      "2767208    21645832    512900  Streets of Rogue   85179148  english   \n",
      "\n",
      "                                                    review  timestamp_created  \\\n",
      "0        BEST GAME I HAVE EVER PLAYED!!!! (except: Mine...         1610741407   \n",
      "1                                       I liked the game\\n         1610741277   \n",
      "3            this game is the best game i have ever played         1610740020   \n",
      "6                                                    peter         1610737864   \n",
      "7                                               game  good         1610737661   \n",
      "...                                                    ...                ...   \n",
      "2767196  What a great game! \\n\\nFor a while I was looki...         1489205145   \n",
      "2767200  Very good and fast-paced roguelite. \\n\\nYou pi...         1611329631   \n",
      "2767203  My stand up comedy was so good it overthrew th...         1611413586   \n",
      "2767206            i went ape mode on civilians as an ape.         1611385439   \n",
      "2767208  All I'm gonna say is, I have hundreds of games...         1611371017   \n",
      "\n",
      "         timestamp_updated  recommended  votes_helpful  ...  dlc_available  \\\n",
      "0               1610741407         True              0  ...              1   \n",
      "1               1610741277         True              0  ...              1   \n",
      "3               1610740020         True              0  ...              1   \n",
      "6               1610737864         True              0  ...              1   \n",
      "7               1610737661         True              0  ...              1   \n",
      "...                    ...          ...            ...  ...            ...   \n",
      "2767196         1489205145         True              1  ...              3   \n",
      "2767200         1611329631         True              0  ...              3   \n",
      "2767203         1611413685         True              0  ...              3   \n",
      "2767206         1611385439         True              0  ...              3   \n",
      "2767208         1611371017         True              0  ...              3   \n",
      "\n",
      "         age_rating  win_support  mac_support  linux_support  awards  \\\n",
      "0                 0         True         True           True       0   \n",
      "1                 0         True         True           True       0   \n",
      "3                 0         True         True           True       0   \n",
      "6                 0         True         True           True       0   \n",
      "7                 0         True         True           True       0   \n",
      "...             ...          ...          ...            ...     ...   \n",
      "2767196           1         True         True           True       0   \n",
      "2767200           1         True         True           True       0   \n",
      "2767203           1         True         True           True       0   \n",
      "2767206           1         True         True           True       0   \n",
      "2767208           1         True         True           True       0   \n",
      "\n",
      "         overall_review_%  overall_review_count  original_price_usd  \\\n",
      "0                    98.0              323872.0               11.52   \n",
      "1                    98.0              323872.0               11.52   \n",
      "3                    98.0              323872.0               11.52   \n",
      "6                    98.0              323872.0               11.52   \n",
      "7                    98.0              323872.0               11.52   \n",
      "...                   ...                   ...                 ...   \n",
      "2767196              96.0               15205.0               10.56   \n",
      "2767200              96.0               15205.0               10.56   \n",
      "2767203              96.0               15205.0               10.56   \n",
      "2767206              96.0               15205.0               10.56   \n",
      "2767208              96.0               15205.0               10.56   \n",
      "\n",
      "         discounted_price_usd  \n",
      "0                       4.752  \n",
      "1                       4.752  \n",
      "3                       4.752  \n",
      "6                       4.752  \n",
      "7                       4.752  \n",
      "...                       ...  \n",
      "2767196                 2.640  \n",
      "2767200                 2.640  \n",
      "2767203                 2.640  \n",
      "2767206                 2.640  \n",
      "2767208                 2.640  \n",
      "\n",
      "[1103836 rows x 43 columns]\n"
     ]
    }
   ],
   "source": [
    "merged_df = pd.merge(df, game, left_on=\"app_name\", right_on=\"title\", how=\"inner\")\n",
    "\n",
    "#filter merged_df with only english\n",
    "merged_df_1 = merged_df[merged_df[\"language\"] == \"english\"]\n",
    "\n",
    "# Display the first five rows of the filtered dataframe\n",
    "print(merged_df_1)"
   ]
  },
  {
   "cell_type": "code",
   "execution_count": 14,
   "id": "f7c3e491-4c05-402a-95e2-15c77619b20b",
   "metadata": {
    "tags": []
   },
   "outputs": [],
   "source": [
    "filtered_df = merged_df_1[pd.to_datetime(merged_df_1['release_date']) > pd.Timestamp('2013-12-31')]"
   ]
  },
  {
   "cell_type": "code",
   "execution_count": 18,
   "id": "9ad93567-af55-4969-9a8f-a1fd5077421f",
   "metadata": {
    "tags": []
   },
   "outputs": [],
   "source": [
    "developers_to_count = [\n",
    "    \"Rockstar North\",\n",
    "    \"Bethesda Game Studios\",\n",
    "    \"CREATIVE ASSEMBLY\",\n",
    "    \"Ninja Kiwi\",\n",
    "    \"Mega Crit\"\n",
    "]\n",
    "\n",
    "filtered_developers_df = filtered_df[filtered_df['developer'].isin(developers_to_count)].reset_index(drop=True)"
   ]
  },
  {
   "cell_type": "code",
   "execution_count": 19,
   "id": "d13a51ba-19ae-478d-a950-8372c93a8a3a",
   "metadata": {
    "tags": []
   },
   "outputs": [
    {
     "data": {
      "text/plain": [
       "developer\n",
       "Rockstar North           319751\n",
       "Bethesda Game Studios     84628\n",
       "CREATIVE ASSEMBLY         73091\n",
       "Ninja Kiwi                42070\n",
       "Mega Crit                 41684\n",
       "Name: count, dtype: int64"
      ]
     },
     "execution_count": 19,
     "metadata": {},
     "output_type": "execute_result"
    }
   ],
   "source": [
    "developer_counts_all = filtered_developers_df['developer'].value_counts()\n",
    "\n",
    "developer_counts_all"
   ]
  },
  {
   "cell_type": "code",
   "execution_count": 21,
   "id": "40fa4a73-ee2a-414b-95a8-f94b30750dcd",
   "metadata": {
    "tags": []
   },
   "outputs": [
    {
     "name": "stderr",
     "output_type": "stream",
     "text": [
      "/var/folders/9f/g3mh126s0s546sbywzbxhf2h0000gn/T/ipykernel_2625/315875220.py:6: DeprecationWarning: DataFrameGroupBy.apply operated on the grouping columns. This behavior is deprecated, and in a future version of pandas the grouping columns will be excluded from the operation. Either pass `include_groups=False` to exclude the groupings or explicitly select the grouping columns after groupby to silence this warning.\n",
      "  .apply(lambda x: x.sample(n=min(40000, len(x)), replace=True, random_state=42))\n"
     ]
    }
   ],
   "source": [
    "filtered_data = filtered_df[filtered_df['developer'].isin(developers_to_count)]\n",
    "\n",
    "# Randomly sample 40,000 observations for each developer in developers_to_count\n",
    "sampled_developers_df = (\n",
    "    filtered_data.groupby('developer', group_keys=False)\n",
    "    .apply(lambda x: x.sample(n=min(40000, len(x)), replace=True, random_state=42))\n",
    "    .reset_index(drop=True)\n",
    ")"
   ]
  },
  {
   "cell_type": "code",
   "execution_count": 22,
   "id": "33e1e6d1-6838-488b-a148-62e407b9e951",
   "metadata": {
    "tags": []
   },
   "outputs": [
    {
     "name": "stdout",
     "output_type": "stream",
     "text": [
      "                                      app_name  count\n",
      "0  The Elder Scrolls V: Skyrim Special Edition  40000\n",
      "1                               Slay the Spire  40000\n",
      "2                                  Bloons TD 6  40000\n",
      "3                           Grand Theft Auto V  40000\n",
      "4                      Total War: WARHAMMER II  26291\n",
      "5                         Total War: WARHAMMER  13709\n"
     ]
    }
   ],
   "source": [
    "app_name_counts = sampled_developers_df['app_name'].value_counts().reset_index()\n",
    "\n",
    "# Rename the columns for clarity\n",
    "app_name_counts.columns = ['app_name', 'count']\n",
    "\n",
    "# Display the resulting table\n",
    "print(app_name_counts)"
   ]
  },
  {
   "cell_type": "code",
   "execution_count": 23,
   "id": "db6b229e-1076-4731-8308-5644f286c4df",
   "metadata": {
    "tags": []
   },
   "outputs": [
    {
     "name": "stdout",
     "output_type": "stream",
     "text": [
      "                                              review  compound    neg    neu  \\\n",
      "0                       10/10\\nDefined a generation.    0.0000  0.000  1.000   \n",
      "1                                          good game    0.4404  0.000  0.256   \n",
      "2  -comes with the same exact shitty gameplay exc...    0.8406  0.078  0.766   \n",
      "3                              Yeeeeeeeeeeeeeeeeeeet    0.0000  0.000  1.000   \n",
      "4                    ME ME LIKE SWORD OF BIG LAD MAN    0.3612  0.000  0.737   \n",
      "\n",
      "     pos sentiment  \n",
      "0  0.000   Neutral  \n",
      "1  0.744  Positive  \n",
      "2  0.156  Positive  \n",
      "3  0.000   Neutral  \n",
      "4  0.263  Positive  \n"
     ]
    }
   ],
   "source": [
    "# Initialize the SentimentIntensityAnalyzer\n",
    "sia = SentimentIntensityAnalyzer()\n",
    "\n",
    "# Sample dataframe (replace with your actual DataFrame)\n",
    "# Example: sampled_developers_df = pd.read_csv(\"your_dataset.csv\")\n",
    "\n",
    "# Define a function to calculate sentiment scores and label\n",
    "def get_sentiment_scores(review):\n",
    "    scores = sia.polarity_scores(str(review))\n",
    "    compound = scores['compound']\n",
    "    if compound >= 0.05:\n",
    "        sentiment = \"Positive\"\n",
    "    elif compound <= -0.05:\n",
    "        sentiment = \"Negative\"\n",
    "    else:\n",
    "        sentiment = \"Neutral\"\n",
    "    return pd.Series([compound, scores['neg'], scores['neu'], scores['pos'], sentiment])\n",
    "\n",
    "# Apply the function to calculate scores and sentiment\n",
    "sampled_developers_df[['compound', 'neg', 'neu', 'pos', 'sentiment']] = sampled_developers_df['review'].apply(get_sentiment_scores)\n",
    "\n",
    "# Display the first few observations with their sentiment scores and labels\n",
    "result_df = sampled_developers_df[['review', 'compound', 'neg', 'neu', 'pos', 'sentiment']].head()\n",
    "print(result_df)"
   ]
  },
  {
   "cell_type": "code",
   "execution_count": 24,
   "id": "62f236b1-32af-4504-9442-207b473a5887",
   "metadata": {
    "tags": []
   },
   "outputs": [
    {
     "name": "stdout",
     "output_type": "stream",
     "text": [
      "                                                   review  compound    neg  \\\n",
      "0                            10/10\\nDefined a generation.    0.0000  0.000   \n",
      "1                                               good game    0.4404  0.000   \n",
      "2       -comes with the same exact shitty gameplay exc...    0.8406  0.078   \n",
      "3                                   Yeeeeeeeeeeeeeeeeeeet    0.0000  0.000   \n",
      "4                         ME ME LIKE SWORD OF BIG LAD MAN    0.3612  0.000   \n",
      "...                                                   ...       ...    ...   \n",
      "199995  No one wants to buy sharkcards. GTA Online is ...   -0.2960  0.155   \n",
      "199996                the most chill game u can ever play    0.3400  0.000   \n",
      "199997              Love it, Best MMO I have ever played.    0.8957  0.000   \n",
      "199998  I love Grand Theft Auto V\\ncuz the game is coo...    0.9324  0.000   \n",
      "199999  We bought this game on PC for one reason. Sing...   -0.7906  0.304   \n",
      "\n",
      "          neu    pos sentiment  \n",
      "0       1.000  0.000   Neutral  \n",
      "1       0.256  0.744  Positive  \n",
      "2       0.766  0.156  Positive  \n",
      "3       1.000  0.000   Neutral  \n",
      "4       0.737  0.263  Positive  \n",
      "...       ...    ...       ...  \n",
      "199995  0.845  0.000  Negative  \n",
      "199996  0.714  0.286  Positive  \n",
      "199997  0.270  0.730  Positive  \n",
      "199998  0.417  0.583  Positive  \n",
      "199999  0.696  0.000  Negative  \n",
      "\n",
      "[200000 rows x 6 columns]\n"
     ]
    }
   ],
   "source": [
    "# Initialize the SentimentIntensityAnalyzer\n",
    "sia = SentimentIntensityAnalyzer()\n",
    "\n",
    "# Load the stopwords\n",
    "stop_words = set(stopwords.words('english'))\n",
    "\n",
    "# Function to preprocess the review and include stopwords\n",
    "def preprocess_text_with_stopwords(text):\n",
    "    # Convert to string in case of NaN or non-string values\n",
    "    text = str(text)\n",
    "    words = text.split()\n",
    "    # Reconstruct the text to ensure stopwords are retained\n",
    "    return ' '.join(words)\n",
    "\n",
    "# Preprocess the reviews to include stopwords explicitly\n",
    "sampled_developers_df['review_with_stopwords'] = sampled_developers_df['review'].apply(preprocess_text_with_stopwords)\n",
    "\n",
    "# Function to calculate sentiment scores and sentiment label\n",
    "def get_sentiment_scores(review):\n",
    "    scores = sia.polarity_scores(str(review))\n",
    "    compound = scores['compound']\n",
    "    if compound >= 0.05:\n",
    "        sentiment = \"Positive\"\n",
    "    elif compound <= -0.05:\n",
    "        sentiment = \"Negative\"\n",
    "    else:\n",
    "        sentiment = \"Neutral\"\n",
    "    return pd.Series([compound, scores['neg'], scores['neu'], scores['pos'], sentiment])\n",
    "\n",
    "# Apply the sentiment analysis to the processed reviews\n",
    "sampled_developers_df[['compound', 'neg', 'neu', 'pos', 'sentiment']] = sampled_developers_df['review_with_stopwords'].apply(get_sentiment_scores)\n",
    "\n",
    "# Display the first few observations with their sentiment scores and labels\n",
    "result_df = sampled_developers_df[['review', 'compound', 'neg', 'neu', 'pos', 'sentiment']]\n",
    "print(result_df)"
   ]
  },
  {
   "cell_type": "code",
   "execution_count": 27,
   "id": "ea0b456c-77b4-457f-b31f-5bdcfb137e42",
   "metadata": {
    "tags": []
   },
   "outputs": [
    {
     "name": "stderr",
     "output_type": "stream",
     "text": [
      "/var/folders/9f/g3mh126s0s546sbywzbxhf2h0000gn/T/ipykernel_2625/1058135572.py:4: SettingWithCopyWarning: \n",
      "A value is trying to be set on a copy of a slice from a DataFrame.\n",
      "Try using .loc[row_indexer,col_indexer] = value instead\n",
      "\n",
      "See the caveats in the documentation: https://pandas.pydata.org/pandas-docs/stable/user_guide/indexing.html#returning-a-view-versus-a-copy\n",
      "  sampled_developers_df_cleaned['sentiment_score'] = (\n"
     ]
    },
    {
     "data": {
      "text/html": [
       "<div>\n",
       "<style scoped>\n",
       "    .dataframe tbody tr th:only-of-type {\n",
       "        vertical-align: middle;\n",
       "    }\n",
       "\n",
       "    .dataframe tbody tr th {\n",
       "        vertical-align: top;\n",
       "    }\n",
       "\n",
       "    .dataframe thead th {\n",
       "        text-align: right;\n",
       "    }\n",
       "</style>\n",
       "<table border=\"1\" class=\"dataframe\">\n",
       "  <thead>\n",
       "    <tr style=\"text-align: right;\">\n",
       "      <th></th>\n",
       "      <th>Unnamed: 0</th>\n",
       "      <th>app_id_x</th>\n",
       "      <th>app_name</th>\n",
       "      <th>review_id</th>\n",
       "      <th>language</th>\n",
       "      <th>review</th>\n",
       "      <th>timestamp_created</th>\n",
       "      <th>timestamp_updated</th>\n",
       "      <th>recommended</th>\n",
       "      <th>votes_helpful</th>\n",
       "      <th>...</th>\n",
       "      <th>overall_review_count</th>\n",
       "      <th>original_price_usd</th>\n",
       "      <th>discounted_price_usd</th>\n",
       "      <th>compound</th>\n",
       "      <th>neg</th>\n",
       "      <th>neu</th>\n",
       "      <th>pos</th>\n",
       "      <th>sentiment</th>\n",
       "      <th>review_with_stopwords</th>\n",
       "      <th>sentiment_score</th>\n",
       "    </tr>\n",
       "  </thead>\n",
       "  <tbody>\n",
       "    <tr>\n",
       "      <th>0</th>\n",
       "      <td>19986099</td>\n",
       "      <td>489830</td>\n",
       "      <td>The Elder Scrolls V: Skyrim Special Edition</td>\n",
       "      <td>73780180</td>\n",
       "      <td>english</td>\n",
       "      <td>10/10\\nDefined a generation.</td>\n",
       "      <td>1596586347</td>\n",
       "      <td>1596586347</td>\n",
       "      <td>True</td>\n",
       "      <td>0</td>\n",
       "      <td>...</td>\n",
       "      <td>160313.0</td>\n",
       "      <td>21.588</td>\n",
       "      <td>4.308</td>\n",
       "      <td>0.0000</td>\n",
       "      <td>0.000</td>\n",
       "      <td>1.000</td>\n",
       "      <td>0.000</td>\n",
       "      <td>Neutral</td>\n",
       "      <td>10/10 Defined a generation.</td>\n",
       "      <td>0.000</td>\n",
       "    </tr>\n",
       "    <tr>\n",
       "      <th>1</th>\n",
       "      <td>19961594</td>\n",
       "      <td>489830</td>\n",
       "      <td>The Elder Scrolls V: Skyrim Special Edition</td>\n",
       "      <td>84599359</td>\n",
       "      <td>english</td>\n",
       "      <td>good game</td>\n",
       "      <td>1610526175</td>\n",
       "      <td>1610526175</td>\n",
       "      <td>True</td>\n",
       "      <td>0</td>\n",
       "      <td>...</td>\n",
       "      <td>160313.0</td>\n",
       "      <td>21.588</td>\n",
       "      <td>4.308</td>\n",
       "      <td>0.4404</td>\n",
       "      <td>0.000</td>\n",
       "      <td>0.256</td>\n",
       "      <td>0.744</td>\n",
       "      <td>Positive</td>\n",
       "      <td>good game</td>\n",
       "      <td>0.744</td>\n",
       "    </tr>\n",
       "    <tr>\n",
       "      <th>2</th>\n",
       "      <td>20090213</td>\n",
       "      <td>489830</td>\n",
       "      <td>The Elder Scrolls V: Skyrim Special Edition</td>\n",
       "      <td>26464208</td>\n",
       "      <td>english</td>\n",
       "      <td>-comes with the same exact shitty gameplay exc...</td>\n",
       "      <td>1478465537</td>\n",
       "      <td>1478466083</td>\n",
       "      <td>True</td>\n",
       "      <td>1</td>\n",
       "      <td>...</td>\n",
       "      <td>160313.0</td>\n",
       "      <td>21.588</td>\n",
       "      <td>4.308</td>\n",
       "      <td>0.8406</td>\n",
       "      <td>0.078</td>\n",
       "      <td>0.766</td>\n",
       "      <td>0.156</td>\n",
       "      <td>Positive</td>\n",
       "      <td>-comes with the same exact shitty gameplay exc...</td>\n",
       "      <td>0.078</td>\n",
       "    </tr>\n",
       "    <tr>\n",
       "      <th>3</th>\n",
       "      <td>20049371</td>\n",
       "      <td>489830</td>\n",
       "      <td>The Elder Scrolls V: Skyrim Special Edition</td>\n",
       "      <td>46383053</td>\n",
       "      <td>english</td>\n",
       "      <td>Yeeeeeeeeeeeeeeeeeeet</td>\n",
       "      <td>1542905980</td>\n",
       "      <td>1542905980</td>\n",
       "      <td>True</td>\n",
       "      <td>0</td>\n",
       "      <td>...</td>\n",
       "      <td>160313.0</td>\n",
       "      <td>21.588</td>\n",
       "      <td>4.308</td>\n",
       "      <td>0.0000</td>\n",
       "      <td>0.000</td>\n",
       "      <td>1.000</td>\n",
       "      <td>0.000</td>\n",
       "      <td>Neutral</td>\n",
       "      <td>Yeeeeeeeeeeeeeeeeeeet</td>\n",
       "      <td>0.000</td>\n",
       "    </tr>\n",
       "    <tr>\n",
       "      <th>4</th>\n",
       "      <td>19970411</td>\n",
       "      <td>489830</td>\n",
       "      <td>The Elder Scrolls V: Skyrim Special Edition</td>\n",
       "      <td>80748147</td>\n",
       "      <td>english</td>\n",
       "      <td>ME ME LIKE SWORD OF BIG LAD MAN</td>\n",
       "      <td>1606520490</td>\n",
       "      <td>1606520490</td>\n",
       "      <td>True</td>\n",
       "      <td>0</td>\n",
       "      <td>...</td>\n",
       "      <td>160313.0</td>\n",
       "      <td>21.588</td>\n",
       "      <td>4.308</td>\n",
       "      <td>0.3612</td>\n",
       "      <td>0.000</td>\n",
       "      <td>0.737</td>\n",
       "      <td>0.263</td>\n",
       "      <td>Positive</td>\n",
       "      <td>ME ME LIKE SWORD OF BIG LAD MAN</td>\n",
       "      <td>0.263</td>\n",
       "    </tr>\n",
       "  </tbody>\n",
       "</table>\n",
       "<p>5 rows × 50 columns</p>\n",
       "</div>"
      ],
      "text/plain": [
       "   Unnamed: 0  app_id_x                                     app_name  \\\n",
       "0    19986099    489830  The Elder Scrolls V: Skyrim Special Edition   \n",
       "1    19961594    489830  The Elder Scrolls V: Skyrim Special Edition   \n",
       "2    20090213    489830  The Elder Scrolls V: Skyrim Special Edition   \n",
       "3    20049371    489830  The Elder Scrolls V: Skyrim Special Edition   \n",
       "4    19970411    489830  The Elder Scrolls V: Skyrim Special Edition   \n",
       "\n",
       "   review_id language                                             review  \\\n",
       "0   73780180  english                       10/10\\nDefined a generation.   \n",
       "1   84599359  english                                          good game   \n",
       "2   26464208  english  -comes with the same exact shitty gameplay exc...   \n",
       "3   46383053  english                              Yeeeeeeeeeeeeeeeeeeet   \n",
       "4   80748147  english                    ME ME LIKE SWORD OF BIG LAD MAN   \n",
       "\n",
       "   timestamp_created  timestamp_updated  recommended  votes_helpful  ...  \\\n",
       "0         1596586347         1596586347         True              0  ...   \n",
       "1         1610526175         1610526175         True              0  ...   \n",
       "2         1478465537         1478466083         True              1  ...   \n",
       "3         1542905980         1542905980         True              0  ...   \n",
       "4         1606520490         1606520490         True              0  ...   \n",
       "\n",
       "   overall_review_count  original_price_usd  discounted_price_usd  compound  \\\n",
       "0              160313.0              21.588                 4.308    0.0000   \n",
       "1              160313.0              21.588                 4.308    0.4404   \n",
       "2              160313.0              21.588                 4.308    0.8406   \n",
       "3              160313.0              21.588                 4.308    0.0000   \n",
       "4              160313.0              21.588                 4.308    0.3612   \n",
       "\n",
       "     neg    neu    pos  sentiment  \\\n",
       "0  0.000  1.000  0.000    Neutral   \n",
       "1  0.000  0.256  0.744   Positive   \n",
       "2  0.078  0.766  0.156   Positive   \n",
       "3  0.000  1.000  0.000    Neutral   \n",
       "4  0.000  0.737  0.263   Positive   \n",
       "\n",
       "                               review_with_stopwords  sentiment_score  \n",
       "0                        10/10 Defined a generation.            0.000  \n",
       "1                                          good game            0.744  \n",
       "2  -comes with the same exact shitty gameplay exc...            0.078  \n",
       "3                              Yeeeeeeeeeeeeeeeeeeet            0.000  \n",
       "4                    ME ME LIKE SWORD OF BIG LAD MAN            0.263  \n",
       "\n",
       "[5 rows x 50 columns]"
      ]
     },
     "execution_count": 27,
     "metadata": {},
     "output_type": "execute_result"
    }
   ],
   "source": [
    "sampled_developers_df_cleaned = sampled_developers_df.dropna()\n",
    "\n",
    "# Calculate sentiment_score using positive and negative scores\n",
    "sampled_developers_df_cleaned['sentiment_score'] = (\n",
    "    sampled_developers_df_cleaned['pos'] - sampled_developers_df_cleaned['neg']\n",
    ")"
   ]
  },
  {
   "cell_type": "code",
   "execution_count": 28,
   "id": "a166a005-60ef-4bdb-8e5f-f9f130684260",
   "metadata": {
    "tags": []
   },
   "outputs": [
    {
     "name": "stderr",
     "output_type": "stream",
     "text": [
      "/var/folders/9f/g3mh126s0s546sbywzbxhf2h0000gn/T/ipykernel_2625/2023520281.py:5: SettingWithCopyWarning: \n",
      "A value is trying to be set on a copy of a slice from a DataFrame.\n",
      "Try using .loc[row_indexer,col_indexer] = value instead\n",
      "\n",
      "See the caveats in the documentation: https://pandas.pydata.org/pandas-docs/stable/user_guide/indexing.html#returning-a-view-versus-a-copy\n",
      "  sampled_developers_df_cleaned['sentiment_score_percentage'] = sampled_developers_df_cleaned['sentiment_score'] * 100\n"
     ]
    },
    {
     "data": {
      "image/png": "[encoded data removed]",
      "text/plain": [
       "<Figure size 1200x600 with 1 Axes>"
      ]
     },
     "metadata": {},
     "output_type": "display_data"
    }
   ],
   "source": [
    "import matplotlib.pyplot as plt\n",
    "import seaborn as sns\n",
    "\n",
    "# Convert sentiment_score to percentage\n",
    "sampled_developers_df_cleaned['sentiment_score_percentage'] = sampled_developers_df_cleaned['sentiment_score'] * 100\n",
    "\n",
    "# Create the boxplot with sentiment_score as percentage\n",
    "plt.figure(figsize=(12, 6))\n",
    "sns.boxplot(data=sampled_developers_df_cleaned, x='developer', y='sentiment_score_percentage', showfliers=False)\n",
    "\n",
    "# Add labels for each boxplot (median value in percentage)\n",
    "for developer in sampled_developers_df_cleaned['developer'].unique():\n",
    "    median_val = sampled_developers_df_cleaned[sampled_developers_df_cleaned['developer'] == developer]['sentiment_score_percentage'].median()\n",
    "    x_pos = sampled_developers_df_cleaned['developer'].unique().tolist().index(developer)\n",
    "    plt.text(x_pos, median_val, f'{median_val:.1f}%', \n",
    "             horizontalalignment='center', verticalalignment='bottom', color='black', fontsize=9)\n",
    "\n",
    "# Customize the plot\n",
    "plt.title('Sentiment Score Distribution by Developer (Percentage)')\n",
    "plt.xlabel('Developer')\n",
    "plt.ylabel('Sentiment Score (%)')\n",
    "plt.xticks(rotation=45)  # Rotate x-axis labels for better readability\n",
    "\n",
    "# Display the plot\n",
    "plt.show()"
   ]
  },
  {
   "cell_type": "markdown",
   "id": "e203ee12-11c0-4d23-928c-192280b088a8",
   "metadata": {},
   "source": [
    "# Prep for Neural Network Classification--------------------"
   ]
  },
  {
   "cell_type": "code",
   "execution_count": 30,
   "id": "28df5d2c-fd98-4498-8976-9ce9a0140fb2",
   "metadata": {
    "tags": []
   },
   "outputs": [],
   "source": [
    "pd.set_option('display.max_columns', None)\n",
    "\n",
    "\n",
    "# Specify the columns to include in the new DataFrame\n",
    "selected_columns = [\n",
    "    \"steam_purchase\", \"review\", \"recommended\", \"received_for_free\",\n",
    "    \"written_during_early_access\", \"genres\", \"categories\", \"developer\",\n",
    "    \"publisher\", \"discount_percentage\", \"dlc_available\", \"age_rating\",\n",
    "    \"win_support\", \"mac_support\", \"linux_support\", \"awards\",\n",
    "    \"overall_review_%\", \"overall_review_count\", \"original_price_usd\",\n",
    "    \"discounted_price_usd\"\n",
    "]\n",
    "\n",
    "# Create the new DataFrame with the selected columns\n",
    "nn_1 = merged_df_1[selected_columns]"
   ]
  },
  {
   "cell_type": "code",
   "execution_count": 31,
   "id": "6c3bbb32-0b46-49cd-985d-f62a8156d0f1",
   "metadata": {
    "tags": []
   },
   "outputs": [
    {
     "name": "stdout",
     "output_type": "stream",
     "text": [
      "steam_purchase\n",
      "True     851176\n",
      "False    250261\n",
      "Name: count, dtype: int64\n"
     ]
    }
   ],
   "source": [
    "# Remove rows with any NaN values in the DataFrame\n",
    "nn_2 = nn_1.dropna()\n",
    "\n",
    "#counting unique inputs\n",
    "unique_counts = nn_2['steam_purchase'].value_counts()\n",
    "\n",
    "print(unique_counts)\n"
   ]
  },
  {
   "cell_type": "code",
   "execution_count": 32,
   "id": "2f9c5456-4186-4dff-8f65-4ab3ce6fdf14",
   "metadata": {
    "tags": []
   },
   "outputs": [
    {
     "name": "stderr",
     "output_type": "stream",
     "text": [
      "/var/folders/9f/g3mh126s0s546sbywzbxhf2h0000gn/T/ipykernel_2625/2163850081.py:11: SettingWithCopyWarning: \n",
      "A value is trying to be set on a copy of a slice from a DataFrame.\n",
      "Try using .loc[row_indexer,col_indexer] = value instead\n",
      "\n",
      "See the caveats in the documentation: https://pandas.pydata.org/pandas-docs/stable/user_guide/indexing.html#returning-a-view-versus-a-copy\n",
      "  nn_2[boolean_columns] = nn_2[boolean_columns].astype(int)\n",
      "/var/folders/9f/g3mh126s0s546sbywzbxhf2h0000gn/T/ipykernel_2625/2163850081.py:14: SettingWithCopyWarning: \n",
      "A value is trying to be set on a copy of a slice from a DataFrame.\n",
      "Try using .loc[row_indexer,col_indexer] = value instead\n",
      "\n",
      "See the caveats in the documentation: https://pandas.pydata.org/pandas-docs/stable/user_guide/indexing.html#returning-a-view-versus-a-copy\n",
      "  nn_2['review_length'] = nn_2['review'].str.len()\n",
      "/var/folders/9f/g3mh126s0s546sbywzbxhf2h0000gn/T/ipykernel_2625/2163850081.py:15: SettingWithCopyWarning: \n",
      "A value is trying to be set on a copy of a slice from a DataFrame.\n",
      "Try using .loc[row_indexer,col_indexer] = value instead\n",
      "\n",
      "See the caveats in the documentation: https://pandas.pydata.org/pandas-docs/stable/user_guide/indexing.html#returning-a-view-versus-a-copy\n",
      "  nn_2['genre_length'] = nn_2['genres'].str.len()\n",
      "/var/folders/9f/g3mh126s0s546sbywzbxhf2h0000gn/T/ipykernel_2625/2163850081.py:16: SettingWithCopyWarning: \n",
      "A value is trying to be set on a copy of a slice from a DataFrame.\n",
      "Try using .loc[row_indexer,col_indexer] = value instead\n",
      "\n",
      "See the caveats in the documentation: https://pandas.pydata.org/pandas-docs/stable/user_guide/indexing.html#returning-a-view-versus-a-copy\n",
      "  nn_2['categories_length'] = nn_2['categories'].str.len()\n"
     ]
    }
   ],
   "source": [
    "nn_2\n",
    "\n",
    "# Convert True to 1 and False to 0 for specified columns\n",
    "boolean_columns = [\n",
    "    \"steam_purchase\", \"recommended\", \"received_for_free\", \n",
    "    \"written_during_early_access\", \"win_support\", \n",
    "    \"mac_support\", \"linux_support\"\n",
    "]\n",
    "\n",
    "# Convert boolean values to integers\n",
    "nn_2[boolean_columns] = nn_2[boolean_columns].astype(int)\n",
    "\n",
    "# Create a new column `review_length` counting the number of characters in the `review` column\n",
    "nn_2['review_length'] = nn_2['review'].str.len()\n",
    "nn_2['genre_length'] = nn_2['genres'].str.len()\n",
    "nn_2['categories_length'] = nn_2['categories'].str.len()\n",
    "\n",
    "# Remove the specified columns from the DataFrame\n",
    "nn_2 = nn_2.drop(columns=['review', 'genres', 'categories'])\n"
   ]
  },
  {
   "cell_type": "code",
   "execution_count": 33,
   "id": "6efd0656-486c-4834-b5ba-4d280bc71589",
   "metadata": {
    "tags": []
   },
   "outputs": [
    {
     "name": "stdout",
     "output_type": "stream",
     "text": [
      "Mapping of Developers: [2, 19, 32, 30, 21, 34, 24, 37, 35, 11, 12, 42, 13, 38, 26, 31, 17, 18, 27, 23, 41, 39, 3, 8, 7, 40, 4, 33, 20, 6, 1]\n",
      "Mapping of Publishers: [2, 36, 32, 14, 9, 34, 24, 37, 35, 25, 12, 42, 28, 38, 26, 31, 15, 27, 29, 5, 3, 10, 7, 40, 16, 20, 22, 0]\n",
      "Name to Number Dictionary: {'tinyBuild': 0, 'Matt Dabrowski': 1, 'Valve': 2, 'Crytek': 3, 'Bulwark Studios': 4, 'WB Games': 5, 'Eight Points': 6, 'Flashbulb': 7, 'Bethesda Game Studios': 8, 'My Way Games': 9, 'Bethesda Softworks': 10, 'BANDAI NAMCO Studios Inc.': 11, 'Subset Games': 12, 'Gearbox Software': 13, 'SEGA': 14, 'Raw Fury': 15, 'Kasedo Games': 16, 'Oskar Stålberg': 17, 'Irrational Games': 18, 'Ghost Town Games Ltd.': 19, 'Frontier Developments': 20, 'Gadget Games': 21, 'HypeTrain Digital': 22, 'Rockstar North': 23, 'Team Meat': 24, 'BANDAI NAMCO Entertainment': 25, 'Ninja Kiwi': 26, 'Suspicious Developments': 27, '2K': 28, 'Rockstar Games': 29, 'Relic Entertainment': 30, 'Hempuli Oy': 31, 'Eidos Interactive Corp.': 32, 'Stumpy🐙Squid': 33, 'Thomas Happ Games LLC': 34, 'SCS Software': 35, 'Team17': 36, 'Mega Crit': 37, 'Landfall': 38, 'Monolith Productions': 39, 'Total Mayhem Games': 40, 'CREATIVE ASSEMBLY': 41, 'Fatshark': 42}\n"
     ]
    }
   ],
   "source": [
    "# Define the two lists\n",
    "developers = [\n",
    "    'Valve', 'Ghost Town Games Ltd.', 'Eidos Interactive Corp.', 'Relic Entertainment',\n",
    "    'Gadget Games', 'Thomas Happ Games LLC', 'Team Meat', 'Mega Crit', 'SCS Software',\n",
    "    'BANDAI NAMCO Studios Inc.', 'Subset Games', 'Fatshark', 'Gearbox Software',\n",
    "    'Landfall', 'Ninja Kiwi', 'Hempuli Oy', 'Oskar Stålberg', 'Irrational Games',\n",
    "    'Suspicious Developments', 'Rockstar North', 'CREATIVE ASSEMBLY',\n",
    "    'Monolith Productions', 'Crytek', 'Bethesda Game Studios', 'Flashbulb',\n",
    "    'Total Mayhem Games', 'Bulwark Studios', 'Stumpy🐙Squid', 'Frontier Developments',\n",
    "    'Eight Points', 'Matt Dabrowski'\n",
    "]\n",
    "\n",
    "publishers = [\n",
    "    'Valve', 'Team17', 'Eidos Interactive Corp.', 'SEGA', 'My Way Games',\n",
    "    'Thomas Happ Games LLC', 'Team Meat', 'Mega Crit', 'SCS Software',\n",
    "    'BANDAI NAMCO Entertainment', 'Subset Games', 'Fatshark', '2K', 'Landfall',\n",
    "    'Ninja Kiwi', 'Hempuli Oy', 'Raw Fury', 'Suspicious Developments',\n",
    "    'Rockstar Games', 'WB Games', 'Crytek', 'Bethesda Softworks', 'Flashbulb',\n",
    "    'Total Mayhem Games', 'Kasedo Games', 'Frontier Developments',\n",
    "    'HypeTrain Digital', 'tinyBuild'\n",
    "]\n",
    "\n",
    "# Combine the two lists and map names to unique numbers\n",
    "unique_names = list(set(developers + publishers))\n",
    "name_to_number = {name: i for i, name in enumerate(unique_names)}\n",
    "\n",
    "# Map the numbers to the original lists\n",
    "developers_mapped = [name_to_number[name] for name in developers]\n",
    "publishers_mapped = [name_to_number[name] for name in publishers]\n",
    "\n",
    "# Display the mappings\n",
    "print(\"Mapping of Developers:\", developers_mapped)\n",
    "print(\"Mapping of Publishers:\", publishers_mapped)\n",
    "print(\"Name to Number Dictionary:\", name_to_number)"
   ]
  },
  {
   "cell_type": "code",
   "execution_count": 34,
   "id": "4432c684-656c-440d-abb7-6cd382256fe1",
   "metadata": {
    "tags": []
   },
   "outputs": [
    {
     "name": "stdout",
     "output_type": "stream",
     "text": [
      "         steam_purchase  recommended  received_for_free  \\\n",
      "0                     1            1                  0   \n",
      "1                     1            1                  0   \n",
      "3                     1            1                  0   \n",
      "6                     1            1                  0   \n",
      "7                     1            1                  0   \n",
      "...                 ...          ...                ...   \n",
      "2767196               1            1                  0   \n",
      "2767200               1            1                  0   \n",
      "2767203               1            1                  0   \n",
      "2767206               0            1                  0   \n",
      "2767208               1            1                  0   \n",
      "\n",
      "         written_during_early_access       developer  publisher  \\\n",
      "0                                  0           Valve      Valve   \n",
      "1                                  0           Valve      Valve   \n",
      "3                                  0           Valve      Valve   \n",
      "6                                  0           Valve      Valve   \n",
      "7                                  0           Valve      Valve   \n",
      "...                              ...             ...        ...   \n",
      "2767196                            1  Matt Dabrowski  tinyBuild   \n",
      "2767200                            0  Matt Dabrowski  tinyBuild   \n",
      "2767203                            0  Matt Dabrowski  tinyBuild   \n",
      "2767206                            0  Matt Dabrowski  tinyBuild   \n",
      "2767208                            0  Matt Dabrowski  tinyBuild   \n",
      "\n",
      "        discount_percentage  dlc_available  age_rating  win_support  \\\n",
      "0                      -59%              1           0            1   \n",
      "1                      -59%              1           0            1   \n",
      "3                      -59%              1           0            1   \n",
      "6                      -59%              1           0            1   \n",
      "7                      -59%              1           0            1   \n",
      "...                     ...            ...         ...          ...   \n",
      "2767196                -75%              3           1            1   \n",
      "2767200                -75%              3           1            1   \n",
      "2767203                -75%              3           1            1   \n",
      "2767206                -75%              3           1            1   \n",
      "2767208                -75%              3           1            1   \n",
      "\n",
      "         mac_support  linux_support  awards  overall_review_%  \\\n",
      "0                  1              1       0              98.0   \n",
      "1                  1              1       0              98.0   \n",
      "3                  1              1       0              98.0   \n",
      "6                  1              1       0              98.0   \n",
      "7                  1              1       0              98.0   \n",
      "...              ...            ...     ...               ...   \n",
      "2767196            1              1       0              96.0   \n",
      "2767200            1              1       0              96.0   \n",
      "2767203            1              1       0              96.0   \n",
      "2767206            1              1       0              96.0   \n",
      "2767208            1              1       0              96.0   \n",
      "\n",
      "         overall_review_count  original_price_usd  discounted_price_usd  \\\n",
      "0                    323872.0               11.52                 4.752   \n",
      "1                    323872.0               11.52                 4.752   \n",
      "3                    323872.0               11.52                 4.752   \n",
      "6                    323872.0               11.52                 4.752   \n",
      "7                    323872.0               11.52                 4.752   \n",
      "...                       ...                 ...                   ...   \n",
      "2767196               15205.0               10.56                 2.640   \n",
      "2767200               15205.0               10.56                 2.640   \n",
      "2767203               15205.0               10.56                 2.640   \n",
      "2767206               15205.0               10.56                 2.640   \n",
      "2767208               15205.0               10.56                 2.640   \n",
      "\n",
      "         review_length  genre_length  categories_length  developer_mapped  \\\n",
      "0                   52            17                298                 4   \n",
      "1                   17            17                298                 4   \n",
      "3                   45            17                298                 4   \n",
      "6                    5            17                298                 4   \n",
      "7                   10            17                298                 4   \n",
      "...                ...           ...                ...               ...   \n",
      "2767196           1869            29                334                24   \n",
      "2767200           5928            29                334                24   \n",
      "2767203             59            29                334                24   \n",
      "2767206             39            29                334                24   \n",
      "2767208            358            29                334                24   \n",
      "\n",
      "         publisherr_mapped  \n",
      "0                        4  \n",
      "1                        4  \n",
      "3                        4  \n",
      "6                        4  \n",
      "7                        4  \n",
      "...                    ...  \n",
      "2767196                 39  \n",
      "2767200                 39  \n",
      "2767203                 39  \n",
      "2767206                 39  \n",
      "2767208                 39  \n",
      "\n",
      "[1101437 rows x 22 columns]\n"
     ]
    }
   ],
   "source": [
    "developer_mapping = {\n",
    "    'Crytek': 0, 'Bethesda Softworks': 1, 'Subset Games': 2, 'Monolith Productions': 3, \n",
    "    'Valve': 4, 'Gadget Games': 5, 'SCS Software': 6, '2K': 7, 'Eight Points': 8, \n",
    "    'Gearbox Software': 9, 'BANDAI NAMCO Studios Inc.': 10, 'Kasedo Games': 11, \n",
    "    'Relic Entertainment': 12, 'Bethesda Game Studios': 13, 'Frontier Developments': 14, \n",
    "    'HypeTrain Digital': 15, 'Ninja Kiwi': 16, 'Flashbulb': 17, 'Total Mayhem Games': 18, \n",
    "    'Ghost Town Games Ltd.': 19, 'Rockstar Games': 20, 'Raw Fury': 21, 'Landfall': 22, \n",
    "    'Rockstar North': 23, 'Matt Dabrowski': 24, 'Team Meat': 25, 'Bulwark Studios': 26, \n",
    "    'My Way Games': 27, 'Irrational Games': 28, 'Oskar Stålberg': 29, \n",
    "    'CREATIVE ASSEMBLY': 30, 'Thomas Happ Games LLC': 31, 'Team17': 32, \n",
    "    'BANDAI NAMCO Entertainment': 33, 'Eidos Interactive Corp.': 34, 'Hempuli Oy': 35, \n",
    "    'WB Games': 36, 'Fatshark': 37, 'SEGA': 38, 'tinyBuild': 39, \n",
    "    'Suspicious Developments': 40, 'Stumpy🐙Squid': 41, 'Mega Crit': 42\n",
    "}\n",
    "\n",
    "# Map the developer names to numbers\n",
    "nn_2['developer_mapped'] = nn_2['developer'].map(developer_mapping)\n",
    "nn_2['publisherr_mapped'] = nn_2['publisher'].map(developer_mapping)\n",
    "\n",
    "# Display the DataFrame\n",
    "print(nn_2)"
   ]
  },
  {
   "cell_type": "code",
   "execution_count": null,
   "id": "876d5659-3421-4ce5-a640-e57169ed31a2",
   "metadata": {
    "tags": []
   },
   "outputs": [],
   "source": [
    "nn_3 = nn_2"
   ]
  },
  {
   "cell_type": "code",
   "execution_count": null,
   "id": "a89900d5-4df3-40e1-a2a2-d44a134fac9f",
   "metadata": {
    "tags": []
   },
   "outputs": [],
   "source": [
    "# Create the 'over_50' column based on the condition\n",
    "nn_3['over_50'] = (nn_3['discount_percentage'] > 50).astype(int)\n",
    "\n",
    "# Display the updated DataFrame\n",
    "print(nn_3)"
   ]
  },
  {
   "cell_type": "markdown",
   "id": "9f704d48-6fef-40b2-b080-d687e4ef1e67",
   "metadata": {},
   "source": [
    "## Using KNN"
   ]
  }
 ],
 "metadata": {
  "kernelspec": {
   "display_name": "Python 3 (ipykernel)",
   "language": "python",
   "name": "python3"
  },
  "language_info": {
   "codemirror_mode": {
    "name": "ipython",
    "version": 3
   },
   "file_extension": ".py",
   "mimetype": "text/x-python",
   "name": "python",
   "nbconvert_exporter": "python",
   "pygments_lexer": "ipython3",
   "version": "3.11.5"
  }
 },
 "nbformat": 4,
 "nbformat_minor": 5
}
